{
 "cells": [
  {
   "cell_type": "code",
   "execution_count": 2,
   "metadata": {},
   "outputs": [
    {
     "name": "stdout",
     "output_type": "stream",
     "text": [
      "Collecting tensorflow==2.0.0-rc0\n",
      "\u001b[?25l  Downloading https://files.pythonhosted.org/packages/ba/9f/5f5870278e991c213edc08ad40ce5d7869935842bc4ad46a2ebc7cdda2c1/tensorflow-2.0.0rc0-cp36-cp36m-macosx_10_11_x86_64.whl (102.7MB)\n",
      "\u001b[K     |████████████████████████████████| 102.7MB 2.5MB/s eta 0:00:01    |████████▋                       | 27.6MB 1.7MB/s eta 0:00:45     |████████████▉                   | 41.1MB 6.4MB/s eta 0:00:10     |█████████████▏                  | 42.3MB 6.4MB/s eta 0:00:10     |████████████████▋               | 53.1MB 6.1MB/s eta 0:00:09     |███████████████████████████████▎| 100.3MB 3.5MB/s eta 0:00:01\n",
      "\u001b[?25hRequirement already satisfied, skipping upgrade: google-pasta>=0.1.6 in /Users/ritik/anaconda3/envs/tensorflow_cpu/lib/python3.6/site-packages (from tensorflow==2.0.0-rc0) (0.1.7)\n",
      "Requirement already satisfied, skipping upgrade: grpcio>=1.8.6 in /Users/ritik/anaconda3/envs/tensorflow_cpu/lib/python3.6/site-packages (from tensorflow==2.0.0-rc0) (1.22.0)\n",
      "Requirement already satisfied, skipping upgrade: wrapt>=1.11.1 in /Users/ritik/anaconda3/envs/tensorflow_cpu/lib/python3.6/site-packages (from tensorflow==2.0.0-rc0) (1.11.2)\n",
      "Requirement already satisfied, skipping upgrade: gast>=0.2.0 in /Users/ritik/anaconda3/envs/tensorflow_cpu/lib/python3.6/site-packages (from tensorflow==2.0.0-rc0) (0.2.2)\n",
      "Collecting opt-einsum>=2.3.2 (from tensorflow==2.0.0-rc0)\n",
      "\u001b[?25l  Downloading https://files.pythonhosted.org/packages/b8/83/755bd5324777875e9dff19c2e59daec837d0378c09196634524a3d7269ac/opt_einsum-3.1.0.tar.gz (69kB)\n",
      "\u001b[K     |████████████████████████████████| 71kB 20.2MB/s eta 0:00:01\n",
      "\u001b[?25hCollecting tb-nightly<1.15.0a20190807,>=1.15.0a20190806 (from tensorflow==2.0.0-rc0)\n",
      "\u001b[?25l  Downloading https://files.pythonhosted.org/packages/bc/88/24b5fb7280e74c7cf65bde47c171547fd02afb3840cff41bcbe9270650f5/tb_nightly-1.15.0a20190806-py3-none-any.whl (4.3MB)\n",
      "\u001b[K     |████████████████████████████████| 4.3MB 1.3MB/s eta 0:00:01\n",
      "\u001b[?25hRequirement already satisfied, skipping upgrade: protobuf>=3.6.1 in /Users/ritik/anaconda3/envs/tensorflow_cpu/lib/python3.6/site-packages (from tensorflow==2.0.0-rc0) (3.9.1)\n",
      "Requirement already satisfied, skipping upgrade: termcolor>=1.1.0 in /Users/ritik/anaconda3/envs/tensorflow_cpu/lib/python3.6/site-packages (from tensorflow==2.0.0-rc0) (1.1.0)\n",
      "Requirement already satisfied, skipping upgrade: astor>=0.6.0 in /Users/ritik/anaconda3/envs/tensorflow_cpu/lib/python3.6/site-packages (from tensorflow==2.0.0-rc0) (0.8.0)\n",
      "Requirement already satisfied, skipping upgrade: absl-py>=0.7.0 in /Users/ritik/anaconda3/envs/tensorflow_cpu/lib/python3.6/site-packages (from tensorflow==2.0.0-rc0) (0.7.1)\n",
      "Requirement already satisfied, skipping upgrade: keras-applications>=1.0.8 in /Users/ritik/anaconda3/envs/tensorflow_cpu/lib/python3.6/site-packages (from tensorflow==2.0.0-rc0) (1.0.8)\n",
      "Requirement already satisfied, skipping upgrade: keras-preprocessing>=1.0.5 in /Users/ritik/anaconda3/envs/tensorflow_cpu/lib/python3.6/site-packages (from tensorflow==2.0.0-rc0) (1.1.0)\n",
      "Requirement already satisfied, skipping upgrade: numpy<2.0,>=1.16.0 in /Users/ritik/anaconda3/envs/tensorflow_cpu/lib/python3.6/site-packages (from tensorflow==2.0.0-rc0) (1.17.0)\n",
      "Collecting tf-estimator-nightly<1.14.0.dev2019080602,>=1.14.0.dev2019080601 (from tensorflow==2.0.0-rc0)\n",
      "\u001b[?25l  Downloading https://files.pythonhosted.org/packages/21/28/f2a27a62943d5f041e4a6fd404b2d21cb7c59b2242a4e73b03d9ba166552/tf_estimator_nightly-1.14.0.dev2019080601-py2.py3-none-any.whl (501kB)\n",
      "\u001b[K     |████████████████████████████████| 501kB 9.0MB/s eta 0:00:01\n",
      "\u001b[?25hRequirement already satisfied, skipping upgrade: six>=1.10.0 in /Users/ritik/anaconda3/envs/tensorflow_cpu/lib/python3.6/site-packages (from tensorflow==2.0.0-rc0) (1.12.0)\n",
      "Requirement already satisfied, skipping upgrade: wheel>=0.26 in /Users/ritik/anaconda3/envs/tensorflow_cpu/lib/python3.6/site-packages (from tensorflow==2.0.0-rc0) (0.33.4)\n",
      "Requirement already satisfied, skipping upgrade: werkzeug>=0.11.15 in /Users/ritik/anaconda3/envs/tensorflow_cpu/lib/python3.6/site-packages (from tb-nightly<1.15.0a20190807,>=1.15.0a20190806->tensorflow==2.0.0-rc0) (0.15.5)\n",
      "Requirement already satisfied, skipping upgrade: setuptools>=41.0.0 in /Users/ritik/anaconda3/envs/tensorflow_cpu/lib/python3.6/site-packages (from tb-nightly<1.15.0a20190807,>=1.15.0a20190806->tensorflow==2.0.0-rc0) (41.0.1)\n",
      "Requirement already satisfied, skipping upgrade: markdown>=2.6.8 in /Users/ritik/anaconda3/envs/tensorflow_cpu/lib/python3.6/site-packages (from tb-nightly<1.15.0a20190807,>=1.15.0a20190806->tensorflow==2.0.0-rc0) (3.1.1)\n",
      "Requirement already satisfied, skipping upgrade: h5py in /Users/ritik/anaconda3/envs/tensorflow_cpu/lib/python3.6/site-packages (from keras-applications>=1.0.8->tensorflow==2.0.0-rc0) (2.9.0)\n",
      "Building wheels for collected packages: opt-einsum\n",
      "  Building wheel for opt-einsum (setup.py) ... \u001b[?25ldone\n",
      "\u001b[?25h  Created wheel for opt-einsum: filename=opt_einsum-3.1.0-cp36-none-any.whl size=61682 sha256=64eddd52a064d1d542ef9b4681f35fa8e68a98378cfd55e2d258e8730e507a0b\n",
      "  Stored in directory: /Users/ritik/Library/Caches/pip/wheels/2c/b1/94/43d03e130b929aae7ba3f8d15cbd7bc0d1cb5bb38a5c721833\n",
      "Successfully built opt-einsum\n",
      "Installing collected packages: opt-einsum, tb-nightly, tf-estimator-nightly, tensorflow\n",
      "  Found existing installation: tensorflow 1.14.0\n",
      "    Uninstalling tensorflow-1.14.0:\n",
      "      Successfully uninstalled tensorflow-1.14.0\n",
      "Successfully installed opt-einsum-3.1.0 tb-nightly-1.15.0a20190806 tensorflow-2.0.0rc0 tf-estimator-nightly-1.14.0.dev2019080601\n",
      "\u001b[33mWARNING: You are using pip version 19.2.2, however version 19.2.3 is available.\n",
      "You should consider upgrading via the 'pip install --upgrade pip' command.\u001b[0m\n"
     ]
    }
   ],
   "source": [
    "try:\n",
    "  # Use the %tensorflow_version magic if in colab.\n",
    "  %tensorflow_version 2.x\n",
    "except Exception:\n",
    "  !pip install --upgrade tensorflow==2.0.0-rc0"
   ]
  },
  {
   "cell_type": "code",
   "execution_count": 3,
   "metadata": {},
   "outputs": [
    {
     "name": "stdout",
     "output_type": "stream",
     "text": [
      "Collecting pip\n",
      "\u001b[?25l  Downloading https://files.pythonhosted.org/packages/30/db/9e38760b32e3e7f40cce46dd5fb107b8c73840df38f0046d8e6514e675a1/pip-19.2.3-py2.py3-none-any.whl (1.4MB)\n",
      "\u001b[K     |████████████████████████████████| 1.4MB 328kB/s eta 0:00:01\n",
      "\u001b[?25hInstalling collected packages: pip\n",
      "  Found existing installation: pip 19.2.2\n",
      "    Uninstalling pip-19.2.2:\n",
      "      Successfully uninstalled pip-19.2.2\n",
      "Successfully installed pip-19.2.3\n",
      "Note: you may need to restart the kernel to use updated packages.\n"
     ]
    }
   ],
   "source": [
    "pip install --upgrade pip"
   ]
  },
  {
   "cell_type": "code",
   "execution_count": 4,
   "metadata": {},
   "outputs": [],
   "source": [
    "from __future__ import absolute_import, division, print_function, unicode_literals"
   ]
  },
  {
   "cell_type": "code",
   "execution_count": 5,
   "metadata": {},
   "outputs": [],
   "source": [
    "import time\n",
    "import numpy as np\n",
    "import matplotlib.pylab as plt\n",
    "\n",
    "import tensorflow as tf\n",
    "import tensorflow_hub as hub\n",
    "import tensorflow_datasets as tfds\n",
    "tfds.disable_progress_bar()\n",
    "\n",
    "from tensorflow.keras import layers"
   ]
  },
  {
   "cell_type": "code",
   "execution_count": 6,
   "metadata": {},
   "outputs": [],
   "source": [
    "splits = tfds.Split.ALL.subsplit(weighted=(80, 20))\n",
    "\n",
    "splits, info = tfds.load('cats_vs_dogs', with_info=True, as_supervised=True, split = splits)\n",
    "\n",
    "(train_examples, validation_examples) = splits"
   ]
  },
  {
   "cell_type": "code",
   "execution_count": 7,
   "metadata": {},
   "outputs": [],
   "source": [
    "def format_image(image, label):\n",
    "  # `hub` image modules exepct their data normalized to the [0,1] range.\n",
    "  image = tf.image.resize(image, (IMAGE_RES, IMAGE_RES))/255.0\n",
    "  return  image, label\n",
    "\n",
    "num_examples = info.splits['train'].num_examples\n",
    "\n",
    "BATCH_SIZE = 32\n",
    "IMAGE_RES = 224\n",
    "\n",
    "train_batches      = train_examples.cache().shuffle(num_examples//4).map(format_image).batch(BATCH_SIZE).prefetch(1)\n",
    "validation_batches = validation_examples.cache().map(format_image).batch(BATCH_SIZE).prefetch(1)"
   ]
  },
  {
   "cell_type": "markdown",
   "metadata": {},
   "source": [
    "<h3>Transfer Learning"
   ]
  },
  {
   "cell_type": "code",
   "execution_count": 8,
   "metadata": {},
   "outputs": [],
   "source": [
    "URL = \"https://tfhub.dev/google/tf2-preview/mobilenet_v2/feature_vector/4\"\n",
    "feature_extractor = hub.KerasLayer(URL,\n",
    "                                   input_shape=(IMAGE_RES, IMAGE_RES,3))"
   ]
  },
  {
   "cell_type": "code",
   "execution_count": 9,
   "metadata": {},
   "outputs": [],
   "source": [
    "feature_extractor.trainable = False"
   ]
  },
  {
   "cell_type": "code",
   "execution_count": 10,
   "metadata": {},
   "outputs": [
    {
     "name": "stdout",
     "output_type": "stream",
     "text": [
      "Model: \"sequential\"\n",
      "_________________________________________________________________\n",
      "Layer (type)                 Output Shape              Param #   \n",
      "=================================================================\n",
      "keras_layer (KerasLayer)     (None, 1280)              2257984   \n",
      "_________________________________________________________________\n",
      "dense (Dense)                (None, 2)                 2562      \n",
      "=================================================================\n",
      "Total params: 2,260,546\n",
      "Trainable params: 2,562\n",
      "Non-trainable params: 2,257,984\n",
      "_________________________________________________________________\n"
     ]
    }
   ],
   "source": [
    "model = tf.keras.Sequential([\n",
    "  feature_extractor,\n",
    "  layers.Dense(2, activation='softmax')\n",
    "])\n",
    "\n",
    "model.summary()"
   ]
  },
  {
   "cell_type": "code",
   "execution_count": null,
   "metadata": {},
   "outputs": [
    {
     "name": "stdout",
     "output_type": "stream",
     "text": [
      "Epoch 1/3\n",
      "582/582 [==============================] - 632s 1s/step - loss: 0.0502 - accuracy: 0.9834 - val_loss: 0.0000e+00 - val_accuracy: 0.0000e+00\n",
      "Epoch 2/3\n",
      "144/145 [============================>.] - ETA: 0s - loss: 0.0343 - accuracy: 0.9874"
     ]
    }
   ],
   "source": [
    "model.compile(\n",
    "  optimizer='adam', \n",
    "  loss=tf.losses.SparseCategoricalCrossentropy(),\n",
    "  metrics=['accuracy'])\n",
    "\n",
    "EPOCHS = 3\n",
    "history = model.fit(train_batches,\n",
    "                    epochs=EPOCHS,\n",
    "                    validation_data=validation_batches)"
   ]
  },
  {
   "cell_type": "code",
   "execution_count": null,
   "metadata": {},
   "outputs": [],
   "source": []
  }
 ],
 "metadata": {
  "kernelspec": {
   "display_name": "Python 3",
   "language": "python",
   "name": "python3"
  },
  "language_info": {
   "codemirror_mode": {
    "name": "ipython",
    "version": 3
   },
   "file_extension": ".py",
   "mimetype": "text/x-python",
   "name": "python",
   "nbconvert_exporter": "python",
   "pygments_lexer": "ipython3",
   "version": "3.6.9"
  }
 },
 "nbformat": 4,
 "nbformat_minor": 2
}
